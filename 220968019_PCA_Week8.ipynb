{
 "cells": [
  {
   "cell_type": "markdown",
   "id": "d2911128",
   "metadata": {},
   "source": [
    "DEV AGARWAL 220968019 WEEK 8 PCA"
   ]
  },
  {
   "cell_type": "markdown",
   "id": "c0929ff9",
   "metadata": {},
   "source": [
    "### Required Imports"
   ]
  },
  {
   "cell_type": "code",
   "execution_count": 1,
   "id": "57f5b9d8",
   "metadata": {
    "scrolled": true
   },
   "outputs": [],
   "source": [
    "import matplotlib.pyplot as plt\n",
    "import pandas as pd\n",
    "import seaborn as sns\n",
    "\n",
    "from sklearn.decomposition import PCA\n",
    "from sklearn.metrics import *\n",
    "from sklearn.preprocessing import scale # Equivalent of StandardScaler()\n",
    "\n",
    "# Dataset imports\n",
    "from sklearn.datasets import load_breast_cancer\n",
    "from keras.datasets import cifar10"
   ]
  },
  {
   "cell_type": "markdown",
   "id": "9334bb94",
   "metadata": {},
   "source": [
    "### Tasks"
   ]
  },
  {
   "cell_type": "markdown",
   "id": "da6d2b85",
   "metadata": {},
   "source": [
    "### 1) Breast Cancer Data"
   ]
  },
  {
   "cell_type": "markdown",
   "id": "fbfb6b75",
   "metadata": {},
   "source": [
    "- Obtain the dataset."
   ]
  },
  {
   "cell_type": "code",
   "execution_count": 2,
   "id": "cd20b19a",
   "metadata": {
    "scrolled": true
   },
   "outputs": [],
   "source": [
    "cancer_data: pd.DataFrame = load_breast_cancer(as_frame=True).frame\n",
    "cancer_data"
   ]
  },
  {
   "cell_type": "markdown",
   "id": "4c81664e",
   "metadata": {},
   "source": [
    "- View dataset metadata."
   ]
  },
  {
   "cell_type": "code",
   "execution_count": 3,
   "id": "0033ca15",
   "metadata": {},
   "outputs": [],
   "source": [
    "cancer_data.info()"
   ]
  },
  {
   "cell_type": "markdown",
   "id": "e24e4176",
   "metadata": {},
   "source": [
    "- Preprocessing data:"
   ]
  },
  {
   "cell_type": "markdown",
   "id": "927bd0b7",
   "metadata": {},
   "source": [
    "*Replacing number values with respective categories in `target` column.*"
   ]
  },
  {
   "cell_type": "code",
   "execution_count": 4,
   "id": "066f58ab",
   "metadata": {},
   "outputs": [],
   "source": [
    "# As per https://www.datacamp.com/tutorial/principal-component-analysis-in-python\n",
    "cancer_data[\"target\"] = cancer_data.target.replace({\n",
    "    0: \"Benign\",\n",
    "    1: \"Malignant\"\n",
    "}).astype(\"category\")\n",
    "cancer_data"
   ]
  },
  {
   "cell_type": "markdown",
   "id": "ba54f1b2",
   "metadata": {},
   "source": [
    "- Defining feature vector and target variable:"
   ]
  },
  {
   "cell_type": "markdown",
   "id": "1df9d002",
   "metadata": {},
   "source": [
    "*Feature vector:*"
   ]
  },
  {
   "cell_type": "code",
   "execution_count": 5,
   "id": "8063f320",
   "metadata": {},
   "outputs": [],
   "source": [
    "x: pd.DataFrame = cancer_data.drop(columns=[\"target\"])\n",
    "x"
   ]
  },
  {
   "cell_type": "markdown",
   "id": "515ea89d",
   "metadata": {},
   "source": [
    "*Target variable:*"
   ]
  },
  {
   "cell_type": "code",
   "execution_count": 6,
   "id": "cdd32641",
   "metadata": {},
   "outputs": [],
   "source": [
    "y: pd.Series = cancer_data.target\n",
    "y"
   ]
  },
  {
   "cell_type": "markdown",
   "id": "3b6cfd7e",
   "metadata": {},
   "source": [
    "- Normalize feature vector."
   ]
  },
  {
   "cell_type": "code",
   "execution_count": 7,
   "id": "f0d47796",
   "metadata": {},
   "outputs": [],
   "source": [
    "x = pd.DataFrame(scale(x), index=x.index, columns=x.columns)\n",
    "x"
   ]
  },
  {
   "cell_type": "markdown",
   "id": "91c941be",
   "metadata": {},
   "source": [
    "- Derive principal components from the feature vector."
   ]
  },
  {
   "cell_type": "markdown",
   "id": "dd8df3c0",
   "metadata": {},
   "source": [
    "*Using number of components as 2 from the tutorial.*"
   ]
  },
  {
   "cell_type": "code",
   "execution_count": 8,
   "id": "6e83d7bd",
   "metadata": {},
   "outputs": [],
   "source": [
    "num_components: int = 2\n",
    "pca_model: PCA = PCA(n_components=num_components)\n",
    "x_new: pd.DataFrame = pd.DataFrame(\n",
    "    pca_model.fit_transform(x),\n",
    "    index=x.index,\n",
    "    columns=[f\"Principal Component {i}\" for i in range(1, num_components+1)]\n",
    ")\n",
    "x_new"
   ]
  },
  {
   "cell_type": "markdown",
   "id": "0a3cfb20",
   "metadata": {},
   "source": [
    "- Find explained variance ratio. (It is the amount of information that is present in each principal component.)"
   ]
  },
  {
   "cell_type": "code",
   "execution_count": 9,
   "id": "f0c1ce94",
   "metadata": {},
   "outputs": [],
   "source": [
    "pd.DataFrame(\n",
    "    pca_model.explained_variance_ratio_,\n",
    "    index=x_new.columns,\n",
    "    columns=[\"Explained Variance Ratio\"]\n",
    ")"
   ]
  },
  {
   "cell_type": "markdown",
   "id": "41b7c172",
   "metadata": {},
   "source": [
    "*Information lost:*"
   ]
  },
  {
   "cell_type": "code",
   "execution_count": 10,
   "id": "339b0565",
   "metadata": {},
   "outputs": [],
   "source": [
    "1 - pca_model.explained_variance_ratio_.sum()"
   ]
  },
  {
   "cell_type": "markdown",
   "id": "6f19821d",
   "metadata": {},
   "source": [
    "- Plot the points obtained after feature extraction."
   ]
  },
  {
   "cell_type": "code",
   "execution_count": 27,
   "id": "910a144f",
   "metadata": {},
   "outputs": [],
   "source": [
    "sns.scatterplot(\n",
    "    x=x_new.iloc[:, 0],\n",
    "    y=x_new.iloc[:, 1],\n",
    "    hue=y\n",
    ")"
   ]
  },
  {
   "cell_type": "markdown",
   "id": "007c34e1",
   "metadata": {},
   "source": [
    "### 2) CIFAR - 10 Data"
   ]
  },
  {
   "cell_type": "markdown",
   "id": "587f9a06",
   "metadata": {},
   "source": [
    "- Obtain the dataset."
   ]
  },
  {
   "cell_type": "code",
   "execution_count": 12,
   "id": "71838fb0",
   "metadata": {
    "scrolled": true
   },
   "outputs": [],
   "source": [
    "(x_train, y_train), (x_test, y_test) = cifar10.load_data()"
   ]
  },
  {
   "cell_type": "markdown",
   "id": "3a1a18e3",
   "metadata": {},
   "source": [
    "*Converting target arrays to pandas Series for convenience.*"
   ]
  },
  {
   "cell_type": "code",
   "execution_count": 13,
   "id": "bb8289b5",
   "metadata": {},
   "outputs": [],
   "source": [
    "y_train = pd.Series(y_train[:, 0], name=\"target\")\n",
    "y_test = pd.Series(y_test[:, 0], name=\"target\")"
   ]
  },
  {
   "cell_type": "markdown",
   "id": "448ceb7c",
   "metadata": {},
   "source": [
    "*Replacing number values with respective categories in target variable.*"
   ]
  },
  {
   "cell_type": "code",
   "execution_count": 14,
   "id": "bb44e12b",
   "metadata": {},
   "outputs": [],
   "source": [
    "# As per https://www.datacamp.com/tutorial/principal-component-analysis-in-python\n",
    "label_dict: dict[int, str] = {\n",
    " 0: 'airplane',\n",
    " 1: 'automobile',\n",
    " 2: 'bird',\n",
    " 3: 'cat',\n",
    " 4: 'deer',\n",
    " 5: 'dog',\n",
    " 6: 'frog',\n",
    " 7: 'horse',\n",
    " 8: 'ship',\n",
    " 9: 'truck',\n",
    "}\n",
    "y_train.replace(label_dict, inplace=True)\n",
    "y_test.replace(label_dict, inplace=True)"
   ]
  },
  {
   "cell_type": "markdown",
   "id": "964f1817",
   "metadata": {},
   "source": [
    "- Visualize some data from the dataset."
   ]
  },
  {
   "cell_type": "code",
   "execution_count": 15,
   "id": "a8226cda",
   "metadata": {},
   "outputs": [],
   "source": [
    "plt.figure(figsize=(5, 15))\n",
    "# Visualizing 10 images\n",
    "for i in range(10):\n",
    "    plt.subplot(5, 2, i+1)\n",
    "    plt.imshow(x_train[i])\n",
    "    plt.legend(\n",
    "        [], # To fool matplotlib into not erroring\n",
    "        title=f\"Label: {y_train[i]}\"\n",
    "    )"
   ]
  },
  {
   "cell_type": "markdown",
   "id": "e7c61ed2",
   "metadata": {},
   "source": [
    "- Normalize feature vector."
   ]
  },
  {
   "cell_type": "markdown",
   "id": "ee03ca3e",
   "metadata": {},
   "source": [
    "*Using min-max normalization: (Since all values in the array are color information (i.e. RGB within 0-255), we divide all values by 255.)*"
   ]
  },
  {
   "cell_type": "code",
   "execution_count": 16,
   "id": "aac70973",
   "metadata": {},
   "outputs": [],
   "source": [
    "x_train = x_train / 255\n",
    "x_test = x_test / 255"
   ]
  },
  {
   "cell_type": "markdown",
   "id": "7a6130b3",
   "metadata": {},
   "source": [
    "- Check shape of the dataset."
   ]
  },
  {
   "cell_type": "code",
   "execution_count": 17,
   "id": "7fb1fdb8",
   "metadata": {},
   "outputs": [],
   "source": [
    "x_train.shape, x_test.shape"
   ]
  },
  {
   "cell_type": "markdown",
   "id": "6100b6d5",
   "metadata": {},
   "source": [
    "*It is an array of images where each image is a 32×32 matrix of pixels with RGB color values.*"
   ]
  },
  {
   "cell_type": "markdown",
   "id": "e76e25e9",
   "metadata": {},
   "source": [
    "- Make each row of the data 1D so that we can construct a dataframe from it."
   ]
  },
  {
   "cell_type": "code",
   "execution_count": 18,
   "id": "13603acf",
   "metadata": {},
   "outputs": [],
   "source": [
    "x_train = x_train.reshape(-1, 32*32*3)\n",
    "x_test = x_test.reshape(-1, 32*32*3)"
   ]
  },
  {
   "cell_type": "markdown",
   "id": "0ea7fb9f",
   "metadata": {},
   "source": [
    "*Each value holds the respective RGB value for each pixel.*"
   ]
  },
  {
   "cell_type": "markdown",
   "id": "9c09d497",
   "metadata": {},
   "source": [
    "- Construct dataframe for the data."
   ]
  },
  {
   "cell_type": "code",
   "execution_count": 19,
   "id": "da060035",
   "metadata": {},
   "outputs": [],
   "source": [
    "train_data:pd.DataFrame = pd.DataFrame(x_train, columns=[f\"RGBVal{i}\" for i in range(x_train.shape[1])])\n",
    "train_data[\"target\"] = y_train\n",
    "train_data"
   ]
  },
  {
   "cell_type": "code",
   "execution_count": 20,
   "id": "931ef017",
   "metadata": {},
   "outputs": [],
   "source": [
    "test_data: pd.DataFrame = pd.DataFrame(x_test, columns=[f\"RGBVal{i}\" for i in range(x_test.shape[1])])\n",
    "test_data[\"target\"] = y_test\n",
    "test_data"
   ]
  },
  {
   "cell_type": "markdown",
   "id": "2faafc90",
   "metadata": {},
   "source": [
    "*Merging dataframes into a single one to perform PCA on:*"
   ]
  },
  {
   "cell_type": "code",
   "execution_count": 21,
   "id": "864d3408",
   "metadata": {},
   "outputs": [],
   "source": [
    "cifar10_data: pd.DataFrame = pd.concat([train_data, test_data]).reset_index().drop(columns=[\"index\"])\n",
    "cifar10_data"
   ]
  },
  {
   "cell_type": "markdown",
   "id": "338ee0f2",
   "metadata": {},
   "source": [
    "- Derive principal components from the feature vector."
   ]
  },
  {
   "cell_type": "markdown",
   "id": "88821768",
   "metadata": {},
   "source": [
    "*Declaring feature vector and target variable.*"
   ]
  },
  {
   "cell_type": "code",
   "execution_count": 22,
   "id": "51bc4288",
   "metadata": {},
   "outputs": [],
   "source": [
    "x: pd.DataFrame = cifar10_data.drop(columns=[\"target\"])\n",
    "y: pd.Series = cifar10_data.target"
   ]
  },
  {
   "cell_type": "markdown",
   "id": "b07bee76",
   "metadata": {},
   "source": [
    "*Performing PCA:*"
   ]
  },
  {
   "cell_type": "code",
   "execution_count": 23,
   "id": "b3b05e01",
   "metadata": {},
   "outputs": [],
   "source": [
    "num_components: int = 2\n",
    "pca_model: PCA = PCA(n_components=num_components)\n",
    "x_new: pd.DataFrame = pd.DataFrame(\n",
    "    pca_model.fit_transform(x),\n",
    "    index=x.index,\n",
    "    columns=[f\"Principal Component {i}\" for i in range(1, num_components+1)]\n",
    ")\n",
    "x_new"
   ]
  },
  {
   "cell_type": "markdown",
   "id": "6bdd17a0",
   "metadata": {},
   "source": [
    "- Find explained variance ratio. (It is the amount of information that is present in each principal component.)"
   ]
  },
  {
   "cell_type": "code",
   "execution_count": 24,
   "id": "5eb7b58c",
   "metadata": {},
   "outputs": [],
   "source": [
    "pd.DataFrame(\n",
    "    pca_model.explained_variance_ratio_,\n",
    "    index=x_new.columns,\n",
    "    columns=[\"Explained Variance Ratio\"]\n",
    ")"
   ]
  },
  {
   "cell_type": "markdown",
   "id": "34a5cda4",
   "metadata": {},
   "source": [
    "*Information lost:*"
   ]
  },
  {
   "cell_type": "code",
   "execution_count": 25,
   "id": "ec58eaa6",
   "metadata": {},
   "outputs": [],
   "source": [
    "1 - pca_model.explained_variance_ratio_.sum()"
   ]
  },
  {
   "cell_type": "markdown",
   "id": "b92bb1c8",
   "metadata": {},
   "source": [
    "- Plot the points obtained after feature extraction."
   ]
  },
  {
   "cell_type": "code",
   "execution_count": 26,
   "id": "ca8d3c45",
   "metadata": {},
   "outputs": [],
   "source": [
    "plt.figure(figsize=(16, 10))\n",
    "sns.scatterplot(\n",
    "    x=x_new.iloc[:, 0],\n",
    "    y=x_new.iloc[:, 1],\n",
    "    hue=y\n",
    ")"
   ]
  }
 ],
 "metadata": {
  "kernelspec": {
   "display_name": "Python 3 (ipykernel)",
   "language": "python",
   "name": "python3"
  },
  "language_info": {
   "codemirror_mode": {
    "name": "ipython",
    "version": 3
   },
   "file_extension": ".py",
   "mimetype": "text/x-python",
   "name": "python",
   "nbconvert_exporter": "python",
   "pygments_lexer": "ipython3",
   "version": "3.11.3"
  }
 },
 "nbformat": 4,
 "nbformat_minor": 5
}
