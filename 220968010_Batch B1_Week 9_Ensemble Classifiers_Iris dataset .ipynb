{
 "cells": [
  {
   "cell_type": "code",
   "execution_count": 1,
   "id": "9d6b0442",
   "metadata": {},
   "outputs": [],
   "source": [
    "import sklearn.datasets\n",
    "from sklearn.linear_model import LogisticRegression\n",
    "from sklearn import svm\n",
    "svc=svm.SVC(gamma ='auto', probability = True)\n",
    "from sklearn.tree import DecisionTreeClassifier"
   ]
  },
  {
   "cell_type": "code",
   "execution_count": 2,
   "id": "fc19f8ff",
   "metadata": {},
   "outputs": [],
   "source": [
    "iris=sklearn.datasets.load_iris()"
   ]
  },
  {
   "cell_type": "code",
   "execution_count": 3,
   "id": "70f6b8d7",
   "metadata": {},
   "outputs": [],
   "source": [
    "X=iris.data[:,:4]\n",
    "Y=iris.target"
   ]
  },
  {
   "cell_type": "code",
   "execution_count": 4,
   "id": "b7196384",
   "metadata": {},
   "outputs": [],
   "source": [
    "from sklearn.model_selection import train_test_split"
   ]
  },
  {
   "cell_type": "code",
   "execution_count": 5,
   "id": "7ccc4a03",
   "metadata": {},
   "outputs": [],
   "source": [
    "X_train,X_test,Y_train,Y_test=train_test_split(X,Y,test_size=0.2)"
   ]
  },
  {
   "cell_type": "code",
   "execution_count": 6,
   "id": "9365ea3b",
   "metadata": {},
   "outputs": [],
   "source": [
    "estimator = [] \n",
    "estimator.append(('LR',LogisticRegression(solver ='lbfgs',multi_class ='multinomial',max_iter = 200))) \n",
    "estimator.append(('SVC',svc)) \n",
    "estimator.append(('DTC', DecisionTreeClassifier())) "
   ]
  },
  {
   "cell_type": "markdown",
   "id": "2eb1ec4e",
   "metadata": {},
   "source": [
    "# Max Voting"
   ]
  },
  {
   "cell_type": "code",
   "execution_count": 7,
   "id": "97cdfe07",
   "metadata": {},
   "outputs": [],
   "source": [
    "from sklearn.ensemble import VotingClassifier\n",
    "hard_voting = VotingClassifier(estimators = estimator, voting ='hard') \n",
    "hard_voting.fit(X_train, Y_train) \n",
    "y_pred = hard_voting.predict(X_test)"
   ]
  },
  {
   "cell_type": "code",
   "execution_count": 8,
   "id": "3c2e6aff",
   "metadata": {},
   "outputs": [],
   "source": [
    "from sklearn.metrics import accuracy_score"
   ]
  },
  {
   "cell_type": "code",
   "execution_count": 10,
   "id": "6eaf8793",
   "metadata": {},
   "outputs": [
    {
     "name": "stdout",
     "output_type": "stream",
     "text": [
      "Max Voting Score:0.97 \n"
     ]
    }
   ],
   "source": [
    "score = accuracy_score(Y_test, y_pred) \n",
    "print(\"Max Voting Score:{:.2f} \".format(score))"
   ]
  },
  {
   "cell_type": "code",
   "execution_count": 11,
   "id": "1231c40c",
   "metadata": {},
   "outputs": [],
   "source": [
    "from sklearn.ensemble import BaggingClassifier\n",
    "from sklearn.tree import DecisionTreeClassifier\n",
    "bagging = BaggingClassifier(base_estimator=DecisionTreeClassifier(),n_estimators=10, max_samples=0.5, max_features=0.5)"
   ]
  },
  {
   "cell_type": "code",
   "execution_count": 12,
   "id": "51426211",
   "metadata": {},
   "outputs": [
    {
     "name": "stdout",
     "output_type": "stream",
     "text": [
      "Bagging accuracy score:  0.9481543624161074\n"
     ]
    }
   ],
   "source": [
    "from sklearn.ensemble import BaggingRegressor\n",
    "from sklearn.tree import DecisionTreeRegressor\n",
    "bagging = BaggingRegressor(DecisionTreeRegressor())\n",
    "bagging.fit(X_train, Y_train)\n",
    "print(\"Bagging accuracy score: \",bagging.score(X_test,Y_test))"
   ]
  },
  {
   "cell_type": "code",
   "execution_count": 13,
   "id": "653215fb",
   "metadata": {},
   "outputs": [
    {
     "name": "stdout",
     "output_type": "stream",
     "text": [
      "Boosting accuracy score:  0.9333333333333333\n"
     ]
    }
   ],
   "source": [
    "from sklearn.ensemble import AdaBoostClassifier\n",
    "model = AdaBoostClassifier(n_estimators=75)\n",
    "model.fit(X_train, Y_train)\n",
    "print(\"Boosting accuracy score: \",model.score(X_test,Y_test))"
   ]
  },
  {
   "cell_type": "markdown",
   "id": "026ffde0",
   "metadata": {},
   "source": [
    "# Averaging"
   ]
  },
  {
   "cell_type": "code",
   "execution_count": 14,
   "id": "4ad52588",
   "metadata": {},
   "outputs": [],
   "source": [
    "from sklearn import tree\n",
    "from sklearn.neighbors import KNeighborsClassifier"
   ]
  },
  {
   "cell_type": "code",
   "execution_count": 16,
   "id": "01001695",
   "metadata": {},
   "outputs": [],
   "source": [
    "model1 = tree.DecisionTreeClassifier()\n",
    "model2 = KNeighborsClassifier()\n",
    "model3= LogisticRegression()\n",
    "model1.fit(X_train,Y_train)\n",
    "model2.fit(X_train,Y_train)\n",
    "model3.fit(X_train,Y_train)\n",
    "pred1=model1.predict(X_test)\n",
    "pred2=model2.predict(X_test)\n",
    "pred3=model3.predict(X_test)\n",
    "acc1=accuracy_score(Y_test,pred1)\n",
    "acc2=accuracy_score(Y_test,pred2)\n",
    "acc3=accuracy_score(Y_test,pred3)\n",
    "finalacc=(acc1+acc2+acc3)/3"
   ]
  },
  {
   "cell_type": "code",
   "execution_count": 17,
   "id": "3176147f",
   "metadata": {},
   "outputs": [
    {
     "name": "stdout",
     "output_type": "stream",
     "text": [
      "accuracy of model 1: 0.967\n",
      "accuracy of model 2: 0.967\n",
      "accuracy of model 3: 0.967\n",
      "Averaged Accuracy: 0.967\n"
     ]
    }
   ],
   "source": [
    "print(\"accuracy of model 1: {:.3f}\".format(acc1))\n",
    "print(\"accuracy of model 2: {:.3f}\".format(acc2))\n",
    "print(\"accuracy of model 3: {:.3f}\".format(acc3))\n",
    "print(\"Averaged Accuracy: {:.3f}\".format(finalacc))"
   ]
  },
  {
   "cell_type": "markdown",
   "id": "757fc5d4",
   "metadata": {},
   "source": [
    "# WEIGHTED AVERAGING"
   ]
  },
  {
   "cell_type": "code",
   "execution_count": 18,
   "id": "50a56b08",
   "metadata": {},
   "outputs": [],
   "source": [
    "model1 = tree.DecisionTreeClassifier()\n",
    "model2 = KNeighborsClassifier()\n",
    "model3= LogisticRegression()\n",
    "model1.fit(X_train,Y_train)\n",
    "model2.fit(X_train,Y_train)\n",
    "model3.fit(X_train,Y_train)\n",
    "pred1=model1.predict_proba(X_test)\n",
    "pred2=model2.predict_proba(X_test)\n",
    "pred3=model3.predict_proba(X_test)\n",
    "finalpred=(pred1*0.3+pred2*0.3+pred3*0.4)"
   ]
  },
  {
   "cell_type": "code",
   "execution_count": 19,
   "id": "661c7bda",
   "metadata": {},
   "outputs": [
    {
     "data": {
      "text/plain": [
       "array([[3.95356543e-03, 9.15542832e-01, 8.05036026e-02],\n",
       "       [9.89386260e-01, 1.06137130e-02, 2.73581280e-08],\n",
       "       [9.89990995e-01, 1.00089879e-02, 1.70307710e-08],\n",
       "       [3.84908601e-04, 1.06468203e-01, 8.93146888e-01],\n",
       "       [8.17227972e-06, 1.78323128e-02, 9.82159515e-01],\n",
       "       [6.77780494e-03, 9.55228774e-01, 3.79934214e-02],\n",
       "       [3.69590047e-06, 1.12044031e-02, 9.88791901e-01],\n",
       "       [8.41216349e-06, 1.02138513e-02, 9.89777737e-01],\n",
       "       [1.13073466e-03, 8.99536516e-01, 9.93327495e-02],\n",
       "       [6.05891691e-06, 1.55775155e-02, 9.84416426e-01],\n",
       "       [1.50168641e-03, 8.45387271e-01, 1.53111042e-01],\n",
       "       [9.80521536e-01, 1.94781785e-02, 2.85862745e-07],\n",
       "       [5.94299694e-04, 8.97142076e-01, 1.02263625e-01],\n",
       "       [9.77124151e-01, 2.28757438e-02, 1.05603250e-07],\n",
       "       [4.59670263e-03, 9.87853902e-01, 7.54939540e-03],\n",
       "       [9.85669220e-01, 1.43306665e-02, 1.13229731e-07],\n",
       "       [9.87837126e-01, 1.21628367e-02, 3.78123949e-08],\n",
       "       [8.12305590e-03, 9.79785538e-01, 1.20914058e-02],\n",
       "       [4.58738599e-03, 9.12033151e-01, 8.33794628e-02],\n",
       "       [9.85824088e-01, 1.41757448e-02, 1.67692586e-07],\n",
       "       [3.35839682e-05, 3.66859746e-02, 9.63280441e-01],\n",
       "       [9.82462021e-01, 1.75378954e-02, 8.34105396e-08],\n",
       "       [4.17814545e-05, 1.48279985e-01, 8.51678234e-01],\n",
       "       [2.94894926e-03, 8.57252210e-01, 1.39798841e-01],\n",
       "       [8.06442919e-07, 2.72882707e-03, 9.97270366e-01],\n",
       "       [1.65172929e-02, 9.79873500e-01, 3.60920692e-03],\n",
       "       [9.80244656e-01, 1.97552290e-02, 1.14621911e-07],\n",
       "       [1.08461504e-02, 9.81484499e-01, 7.66935068e-03],\n",
       "       [5.34027786e-05, 2.96937806e-02, 9.70252817e-01],\n",
       "       [7.95294411e-05, 6.87873548e-02, 9.31133116e-01]])"
      ]
     },
     "execution_count": 19,
     "metadata": {},
     "output_type": "execute_result"
    }
   ],
   "source": [
    "finalpred"
   ]
  }
 ],
 "metadata": {
  "kernelspec": {
   "display_name": "Python 3 (ipykernel)",
   "language": "python",
   "name": "python3"
  },
  "language_info": {
   "codemirror_mode": {
    "name": "ipython",
    "version": 3
   },
   "file_extension": ".py",
   "mimetype": "text/x-python",
   "name": "python",
   "nbconvert_exporter": "python",
   "pygments_lexer": "ipython3",
   "version": "3.11.3"
  }
 },
 "nbformat": 4,
 "nbformat_minor": 5
}
