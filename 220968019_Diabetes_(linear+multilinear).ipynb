{
 "cells": [
  {
   "cell_type": "markdown",
   "id": "c883a2bf",
   "metadata": {},
   "source": [
    "NAME: DEV AGARWAL REG NO: 220968019 SECTION: A ROLL NO: 06 BATCH: 1"
   ]
  },
  {
   "cell_type": "code",
   "execution_count": 1,
   "id": "5a467cb3",
   "metadata": {},
   "outputs": [],
   "source": [
    "import pandas as pd\n",
    "import numpy as np\n",
    "import seaborn as sns \n",
    "import matplotlib.pyplot as plt\n",
    "import math"
   ]
  },
  {
   "cell_type": "code",
   "execution_count": 2,
   "id": "075581ef",
   "metadata": {},
   "outputs": [
    {
     "data": {
      "text/html": [
       "<div>\n",
       "<style scoped>\n",
       "    .dataframe tbody tr th:only-of-type {\n",
       "        vertical-align: middle;\n",
       "    }\n",
       "\n",
       "    .dataframe tbody tr th {\n",
       "        vertical-align: top;\n",
       "    }\n",
       "\n",
       "    .dataframe thead th {\n",
       "        text-align: right;\n",
       "    }\n",
       "</style>\n",
       "<table border=\"1\" class=\"dataframe\">\n",
       "  <thead>\n",
       "    <tr style=\"text-align: right;\">\n",
       "      <th></th>\n",
       "      <th>Pregnancies</th>\n",
       "      <th>Glucose</th>\n",
       "      <th>BloodPressure</th>\n",
       "      <th>SkinThickness</th>\n",
       "      <th>Insulin</th>\n",
       "      <th>BMI</th>\n",
       "      <th>DiabetesPedigreeFunction</th>\n",
       "      <th>Age</th>\n",
       "      <th>Outcome</th>\n",
       "    </tr>\n",
       "  </thead>\n",
       "  <tbody>\n",
       "    <tr>\n",
       "      <th>0</th>\n",
       "      <td>6</td>\n",
       "      <td>148</td>\n",
       "      <td>72</td>\n",
       "      <td>35</td>\n",
       "      <td>0</td>\n",
       "      <td>33.6</td>\n",
       "      <td>0.627</td>\n",
       "      <td>50</td>\n",
       "      <td>1</td>\n",
       "    </tr>\n",
       "    <tr>\n",
       "      <th>1</th>\n",
       "      <td>1</td>\n",
       "      <td>85</td>\n",
       "      <td>66</td>\n",
       "      <td>29</td>\n",
       "      <td>0</td>\n",
       "      <td>26.6</td>\n",
       "      <td>0.351</td>\n",
       "      <td>31</td>\n",
       "      <td>0</td>\n",
       "    </tr>\n",
       "    <tr>\n",
       "      <th>2</th>\n",
       "      <td>8</td>\n",
       "      <td>183</td>\n",
       "      <td>64</td>\n",
       "      <td>0</td>\n",
       "      <td>0</td>\n",
       "      <td>23.3</td>\n",
       "      <td>0.672</td>\n",
       "      <td>32</td>\n",
       "      <td>1</td>\n",
       "    </tr>\n",
       "    <tr>\n",
       "      <th>3</th>\n",
       "      <td>1</td>\n",
       "      <td>89</td>\n",
       "      <td>66</td>\n",
       "      <td>23</td>\n",
       "      <td>94</td>\n",
       "      <td>28.1</td>\n",
       "      <td>0.167</td>\n",
       "      <td>21</td>\n",
       "      <td>0</td>\n",
       "    </tr>\n",
       "    <tr>\n",
       "      <th>4</th>\n",
       "      <td>0</td>\n",
       "      <td>137</td>\n",
       "      <td>40</td>\n",
       "      <td>35</td>\n",
       "      <td>168</td>\n",
       "      <td>43.1</td>\n",
       "      <td>2.288</td>\n",
       "      <td>33</td>\n",
       "      <td>1</td>\n",
       "    </tr>\n",
       "  </tbody>\n",
       "</table>\n",
       "</div>"
      ],
      "text/plain": [
       "   Pregnancies  Glucose  BloodPressure  SkinThickness  Insulin   BMI  \\\n",
       "0            6      148             72             35        0  33.6   \n",
       "1            1       85             66             29        0  26.6   \n",
       "2            8      183             64              0        0  23.3   \n",
       "3            1       89             66             23       94  28.1   \n",
       "4            0      137             40             35      168  43.1   \n",
       "\n",
       "   DiabetesPedigreeFunction  Age  Outcome  \n",
       "0                     0.627   50        1  \n",
       "1                     0.351   31        0  \n",
       "2                     0.672   32        1  \n",
       "3                     0.167   21        0  \n",
       "4                     2.288   33        1  "
      ]
     },
     "execution_count": 2,
     "metadata": {},
     "output_type": "execute_result"
    }
   ],
   "source": [
    "data = pd.read_csv('diabetes.csv')\n",
    "df = pd.DataFrame(data)\n",
    "df.head()"
   ]
  },
  {
   "cell_type": "markdown",
   "id": "1fcf123e",
   "metadata": {},
   "source": [
    "UNDERSTANDING THE DATA"
   ]
  },
  {
   "cell_type": "code",
   "execution_count": 3,
   "id": "62bcadf3",
   "metadata": {},
   "outputs": [
    {
     "data": {
      "text/plain": [
       "(768, 9)"
      ]
     },
     "execution_count": 3,
     "metadata": {},
     "output_type": "execute_result"
    }
   ],
   "source": [
    "df.shape"
   ]
  },
  {
   "cell_type": "code",
   "execution_count": 4,
   "id": "4e8359d3",
   "metadata": {},
   "outputs": [
    {
     "name": "stdout",
     "output_type": "stream",
     "text": [
      "<class 'pandas.core.frame.DataFrame'>\n",
      "RangeIndex: 768 entries, 0 to 767\n",
      "Data columns (total 9 columns):\n",
      " #   Column                    Non-Null Count  Dtype  \n",
      "---  ------                    --------------  -----  \n",
      " 0   Pregnancies               768 non-null    int64  \n",
      " 1   Glucose                   768 non-null    int64  \n",
      " 2   BloodPressure             768 non-null    int64  \n",
      " 3   SkinThickness             768 non-null    int64  \n",
      " 4   Insulin                   768 non-null    int64  \n",
      " 5   BMI                       768 non-null    float64\n",
      " 6   DiabetesPedigreeFunction  768 non-null    float64\n",
      " 7   Age                       768 non-null    int64  \n",
      " 8   Outcome                   768 non-null    int64  \n",
      "dtypes: float64(2), int64(7)\n",
      "memory usage: 54.1 KB\n"
     ]
    }
   ],
   "source": [
    "df.info()"
   ]
  },
  {
   "cell_type": "markdown",
   "id": "97bf742d",
   "metadata": {},
   "source": [
    "DROPPING NAN VALUES AND DUPLICATE VALUES"
   ]
  },
  {
   "cell_type": "code",
   "execution_count": 5,
   "id": "fc8a5f8e",
   "metadata": {},
   "outputs": [
    {
     "data": {
      "text/plain": [
       "Pregnancies                 0\n",
       "Glucose                     0\n",
       "BloodPressure               0\n",
       "SkinThickness               0\n",
       "Insulin                     0\n",
       "BMI                         0\n",
       "DiabetesPedigreeFunction    0\n",
       "Age                         0\n",
       "Outcome                     0\n",
       "dtype: int64"
      ]
     },
     "execution_count": 5,
     "metadata": {},
     "output_type": "execute_result"
    }
   ],
   "source": [
    "df.isnull().sum()"
   ]
  },
  {
   "cell_type": "code",
   "execution_count": 6,
   "id": "f7a9fb88",
   "metadata": {},
   "outputs": [],
   "source": [
    "df = df.drop_duplicates()"
   ]
  },
  {
   "cell_type": "code",
   "execution_count": 7,
   "id": "bb9c1a8b",
   "metadata": {},
   "outputs": [],
   "source": [
    "from sklearn.preprocessing import MinMaxScaler\n",
    "from sklearn.model_selection import train_test_split\n",
    "from sklearn.linear_model import LinearRegression"
   ]
  },
  {
   "cell_type": "markdown",
   "id": "bd5896be",
   "metadata": {},
   "source": [
    "MULTIPLE LINEAR REGRESSION"
   ]
  },
  {
   "cell_type": "code",
   "execution_count": 8,
   "id": "52956e5e",
   "metadata": {},
   "outputs": [],
   "source": [
    "x = df.drop(columns = 'Outcome')\n",
    "y = df[['Outcome']]"
   ]
  },
  {
   "cell_type": "code",
   "execution_count": 9,
   "id": "8c6373fc",
   "metadata": {},
   "outputs": [
    {
     "name": "stdout",
     "output_type": "stream",
     "text": [
      "[[0.35294118 0.74371859 0.59016393 ... 0.50074516 0.23441503 0.48333333]\n",
      " [0.05882353 0.42713568 0.54098361 ... 0.39642325 0.11656704 0.16666667]\n",
      " [0.47058824 0.91959799 0.52459016 ... 0.34724292 0.25362938 0.18333333]\n",
      " ...\n",
      " [0.29411765 0.6080402  0.59016393 ... 0.390462   0.07130658 0.15      ]\n",
      " [0.05882353 0.63316583 0.49180328 ... 0.4485842  0.11571307 0.43333333]\n",
      " [0.05882353 0.46733668 0.57377049 ... 0.45305514 0.10119556 0.03333333]]\n"
     ]
    }
   ],
   "source": [
    "scaler = MinMaxScaler()\n",
    "model=scaler.fit(x)\n",
    "scaled_data=model.transform(x)\n",
    " \n",
    "# print scaled features\n",
    "print(scaled_data)"
   ]
  },
  {
   "cell_type": "code",
   "execution_count": 11,
   "id": "438dc269",
   "metadata": {},
   "outputs": [],
   "source": [
    "x_train,x_test,y_train,y_test = train_test_split(x, y, test_size = 0.3, random_state = 0)"
   ]
  },
  {
   "cell_type": "code",
   "execution_count": 12,
   "id": "9645a335",
   "metadata": {},
   "outputs": [],
   "source": [
    "reg = LinearRegression()"
   ]
  },
  {
   "cell_type": "code",
   "execution_count": 13,
   "id": "991b09b8",
   "metadata": {},
   "outputs": [
    {
     "data": {
      "text/html": [
       "<style>#sk-container-id-1 {color: black;background-color: white;}#sk-container-id-1 pre{padding: 0;}#sk-container-id-1 div.sk-toggleable {background-color: white;}#sk-container-id-1 label.sk-toggleable__label {cursor: pointer;display: block;width: 100%;margin-bottom: 0;padding: 0.3em;box-sizing: border-box;text-align: center;}#sk-container-id-1 label.sk-toggleable__label-arrow:before {content: \"▸\";float: left;margin-right: 0.25em;color: #696969;}#sk-container-id-1 label.sk-toggleable__label-arrow:hover:before {color: black;}#sk-container-id-1 div.sk-estimator:hover label.sk-toggleable__label-arrow:before {color: black;}#sk-container-id-1 div.sk-toggleable__content {max-height: 0;max-width: 0;overflow: hidden;text-align: left;background-color: #f0f8ff;}#sk-container-id-1 div.sk-toggleable__content pre {margin: 0.2em;color: black;border-radius: 0.25em;background-color: #f0f8ff;}#sk-container-id-1 input.sk-toggleable__control:checked~div.sk-toggleable__content {max-height: 200px;max-width: 100%;overflow: auto;}#sk-container-id-1 input.sk-toggleable__control:checked~label.sk-toggleable__label-arrow:before {content: \"▾\";}#sk-container-id-1 div.sk-estimator input.sk-toggleable__control:checked~label.sk-toggleable__label {background-color: #d4ebff;}#sk-container-id-1 div.sk-label input.sk-toggleable__control:checked~label.sk-toggleable__label {background-color: #d4ebff;}#sk-container-id-1 input.sk-hidden--visually {border: 0;clip: rect(1px 1px 1px 1px);clip: rect(1px, 1px, 1px, 1px);height: 1px;margin: -1px;overflow: hidden;padding: 0;position: absolute;width: 1px;}#sk-container-id-1 div.sk-estimator {font-family: monospace;background-color: #f0f8ff;border: 1px dotted black;border-radius: 0.25em;box-sizing: border-box;margin-bottom: 0.5em;}#sk-container-id-1 div.sk-estimator:hover {background-color: #d4ebff;}#sk-container-id-1 div.sk-parallel-item::after {content: \"\";width: 100%;border-bottom: 1px solid gray;flex-grow: 1;}#sk-container-id-1 div.sk-label:hover label.sk-toggleable__label {background-color: #d4ebff;}#sk-container-id-1 div.sk-serial::before {content: \"\";position: absolute;border-left: 1px solid gray;box-sizing: border-box;top: 0;bottom: 0;left: 50%;z-index: 0;}#sk-container-id-1 div.sk-serial {display: flex;flex-direction: column;align-items: center;background-color: white;padding-right: 0.2em;padding-left: 0.2em;position: relative;}#sk-container-id-1 div.sk-item {position: relative;z-index: 1;}#sk-container-id-1 div.sk-parallel {display: flex;align-items: stretch;justify-content: center;background-color: white;position: relative;}#sk-container-id-1 div.sk-item::before, #sk-container-id-1 div.sk-parallel-item::before {content: \"\";position: absolute;border-left: 1px solid gray;box-sizing: border-box;top: 0;bottom: 0;left: 50%;z-index: -1;}#sk-container-id-1 div.sk-parallel-item {display: flex;flex-direction: column;z-index: 1;position: relative;background-color: white;}#sk-container-id-1 div.sk-parallel-item:first-child::after {align-self: flex-end;width: 50%;}#sk-container-id-1 div.sk-parallel-item:last-child::after {align-self: flex-start;width: 50%;}#sk-container-id-1 div.sk-parallel-item:only-child::after {width: 0;}#sk-container-id-1 div.sk-dashed-wrapped {border: 1px dashed gray;margin: 0 0.4em 0.5em 0.4em;box-sizing: border-box;padding-bottom: 0.4em;background-color: white;}#sk-container-id-1 div.sk-label label {font-family: monospace;font-weight: bold;display: inline-block;line-height: 1.2em;}#sk-container-id-1 div.sk-label-container {text-align: center;}#sk-container-id-1 div.sk-container {/* jupyter's `normalize.less` sets `[hidden] { display: none; }` but bootstrap.min.css set `[hidden] { display: none !important; }` so we also need the `!important` here to be able to override the default hidden behavior on the sphinx rendered scikit-learn.org. See: https://github.com/scikit-learn/scikit-learn/issues/21755 */display: inline-block !important;position: relative;}#sk-container-id-1 div.sk-text-repr-fallback {display: none;}</style><div id=\"sk-container-id-1\" class=\"sk-top-container\"><div class=\"sk-text-repr-fallback\"><pre>LinearRegression()</pre><b>In a Jupyter environment, please rerun this cell to show the HTML representation or trust the notebook. <br />On GitHub, the HTML representation is unable to render, please try loading this page with nbviewer.org.</b></div><div class=\"sk-container\" hidden><div class=\"sk-item\"><div class=\"sk-estimator sk-toggleable\"><input class=\"sk-toggleable__control sk-hidden--visually\" id=\"sk-estimator-id-1\" type=\"checkbox\" checked><label for=\"sk-estimator-id-1\" class=\"sk-toggleable__label sk-toggleable__label-arrow\">LinearRegression</label><div class=\"sk-toggleable__content\"><pre>LinearRegression()</pre></div></div></div></div></div>"
      ],
      "text/plain": [
       "LinearRegression()"
      ]
     },
     "execution_count": 13,
     "metadata": {},
     "output_type": "execute_result"
    }
   ],
   "source": [
    "reg.fit(x_train, y_train)"
   ]
  },
  {
   "cell_type": "code",
   "execution_count": 14,
   "id": "9006ed8d",
   "metadata": {},
   "outputs": [],
   "source": [
    "y_pred = reg.predict(x_test)"
   ]
  },
  {
   "cell_type": "code",
   "execution_count": 38,
   "id": "725b3ca6",
   "metadata": {},
   "outputs": [],
   "source": [
    "from sklearn.metrics import mean_squared_error\n",
    "from sklearn.metrics import mean_absolute_error"
   ]
  },
  {
   "cell_type": "markdown",
   "id": "9cb885f7",
   "metadata": {},
   "source": [
    "ERROR CALCULATION"
   ]
  },
  {
   "cell_type": "code",
   "execution_count": 41,
   "id": "afe4eb44",
   "metadata": {},
   "outputs": [
    {
     "name": "stdout",
     "output_type": "stream",
     "text": [
      "mean squared error:  0.15473658619758926\n",
      "root mean square error:  0.3933657155848604\n",
      "mean absolute error:  0.32902373479170804\n"
     ]
    }
   ],
   "source": [
    "mse = mean_squared_error(y_test,y_pred)\n",
    "print(\"mean squared error: \",mse)\n",
    "rmse  = math.sqrt(mse)\n",
    "print(\"root mean square error: \",rmse)\n",
    "mae = mean_absolute_error(y_test,y_pred)\n",
    "print(\"mean absolute error: \",mae)"
   ]
  },
  {
   "cell_type": "code",
   "execution_count": 19,
   "id": "0a255cd6",
   "metadata": {},
   "outputs": [
    {
     "data": {
      "text/plain": [
       "[array([1.00652309]),\n",
       " array([0.21014657]),\n",
       " array([0.08960339]),\n",
       " array([0.61051716]),\n",
       " array([0.16018883]),\n",
       " array([-0.05585901]),\n",
       " array([0.66506586]),\n",
       " array([0.79701108]),\n",
       " array([0.39524288]),\n",
       " array([0.41318193]),\n",
       " array([0.54136512]),\n",
       " array([1.03008655]),\n",
       " array([0.3552512]),\n",
       " array([0.20243953]),\n",
       " array([0.15535587]),\n",
       " array([0.21249144]),\n",
       " array([0.80874076]),\n",
       " array([-0.11874611]),\n",
       " array([0.47673644]),\n",
       " array([0.30016833]),\n",
       " array([0.60521404]),\n",
       " array([0.40637889]),\n",
       " array([0.2632162]),\n",
       " array([0.04720757]),\n",
       " array([-0.00330766]),\n",
       " array([0.38441952]),\n",
       " array([-0.01561558]),\n",
       " array([0.86371668]),\n",
       " array([0.14655874]),\n",
       " array([0.18944348]),\n",
       " array([0.48625288]),\n",
       " array([0.29251766]),\n",
       " array([0.10623267]),\n",
       " array([0.45417435]),\n",
       " array([0.13031735]),\n",
       " array([0.65677613]),\n",
       " array([0.47717326]),\n",
       " array([0.09476549]),\n",
       " array([0.37572647]),\n",
       " array([0.67528545]),\n",
       " array([0.32046771]),\n",
       " array([0.24289669]),\n",
       " array([0.21087443]),\n",
       " array([0.76313335]),\n",
       " array([0.71629682]),\n",
       " array([-0.2781803]),\n",
       " array([0.09757329]),\n",
       " array([0.27144193]),\n",
       " array([0.37840754]),\n",
       " array([0.33860683]),\n",
       " array([0.42932013]),\n",
       " array([0.23900622]),\n",
       " array([0.81016882]),\n",
       " array([0.49945312]),\n",
       " array([0.17012408]),\n",
       " array([-0.51578004]),\n",
       " array([0.03850837]),\n",
       " array([0.4976449]),\n",
       " array([0.32182462]),\n",
       " array([0.08601256]),\n",
       " array([0.6726406]),\n",
       " array([0.47017416]),\n",
       " array([0.13759921]),\n",
       " array([0.62851622]),\n",
       " array([0.629749]),\n",
       " array([0.87512422]),\n",
       " array([0.66512183]),\n",
       " array([0.20513772]),\n",
       " array([0.39208446]),\n",
       " array([0.13720536]),\n",
       " array([0.15320118]),\n",
       " array([0.43024658]),\n",
       " array([0.11344957]),\n",
       " array([0.98097936]),\n",
       " array([0.7660326]),\n",
       " array([0.36216877]),\n",
       " array([0.14535147]),\n",
       " array([0.58752535]),\n",
       " array([0.06132933]),\n",
       " array([0.24545077]),\n",
       " array([0.36736144]),\n",
       " array([0.41678395]),\n",
       " array([0.25843532]),\n",
       " array([-0.07760562]),\n",
       " array([0.2548295]),\n",
       " array([0.25180467]),\n",
       " array([0.33462424]),\n",
       " array([0.42781468]),\n",
       " array([0.83535513]),\n",
       " array([0.22648093]),\n",
       " array([0.23570841]),\n",
       " array([0.23437577]),\n",
       " array([0.27682579]),\n",
       " array([-0.04169518]),\n",
       " array([0.62583541]),\n",
       " array([0.24011032]),\n",
       " array([0.41925331]),\n",
       " array([0.50420828]),\n",
       " array([0.5704542]),\n",
       " array([0.31274542]),\n",
       " array([0.30327191]),\n",
       " array([0.0973145]),\n",
       " array([0.26626932]),\n",
       " array([-0.04976832]),\n",
       " array([0.56588905]),\n",
       " array([0.37308934]),\n",
       " array([0.17911992]),\n",
       " array([0.3556462]),\n",
       " array([-0.02512154]),\n",
       " array([0.68632486]),\n",
       " array([0.11958928]),\n",
       " array([0.35439547]),\n",
       " array([0.57670908]),\n",
       " array([0.41949528]),\n",
       " array([0.51451604]),\n",
       " array([0.59164622]),\n",
       " array([0.12656973]),\n",
       " array([0.6070847]),\n",
       " array([0.12333361]),\n",
       " array([0.67080461]),\n",
       " array([0.41252114]),\n",
       " array([0.42556582]),\n",
       " array([0.33983279]),\n",
       " array([0.48846083]),\n",
       " array([0.27875035]),\n",
       " array([-0.02059693]),\n",
       " array([0.35140093]),\n",
       " array([0.39212887]),\n",
       " array([0.50222344]),\n",
       " array([0.40838861]),\n",
       " array([0.40447072]),\n",
       " array([-0.0358677]),\n",
       " array([0.01798509]),\n",
       " array([0.67943342]),\n",
       " array([0.34275413]),\n",
       " array([0.42768181]),\n",
       " array([0.18562829]),\n",
       " array([0.40207813]),\n",
       " array([0.59140742]),\n",
       " array([0.25345075]),\n",
       " array([0.0924059]),\n",
       " array([0.53082685]),\n",
       " array([0.05003506]),\n",
       " array([0.06513823]),\n",
       " array([0.38506261]),\n",
       " array([0.08513922]),\n",
       " array([0.06607529]),\n",
       " array([0.11539739]),\n",
       " array([0.15846281]),\n",
       " array([0.24519938]),\n",
       " array([0.08020807]),\n",
       " array([0.57515393]),\n",
       " array([0.12960584]),\n",
       " array([0.22209456]),\n",
       " array([0.70681054]),\n",
       " array([0.15433808]),\n",
       " array([0.61618308]),\n",
       " array([0.17013446]),\n",
       " array([0.51665023]),\n",
       " array([1.00731754]),\n",
       " array([0.62286987]),\n",
       " array([0.74002116]),\n",
       " array([-0.15624769]),\n",
       " array([0.29853811]),\n",
       " array([0.80120758]),\n",
       " array([0.36233624]),\n",
       " array([0.25036915]),\n",
       " array([0.14870992]),\n",
       " array([0.30276864]),\n",
       " array([0.14363239]),\n",
       " array([0.13923709]),\n",
       " array([0.2634165]),\n",
       " array([0.23604926]),\n",
       " array([0.30523996]),\n",
       " array([0.55025785]),\n",
       " array([0.15371384]),\n",
       " array([0.42165911]),\n",
       " array([0.13473296]),\n",
       " array([0.15335645]),\n",
       " array([0.04597334]),\n",
       " array([0.20290819]),\n",
       " array([0.75929807]),\n",
       " array([0.17127442]),\n",
       " array([0.96205304]),\n",
       " array([0.46902858]),\n",
       " array([-0.13313914]),\n",
       " array([0.60304646]),\n",
       " array([0.30355299]),\n",
       " array([0.44011831]),\n",
       " array([0.14653112]),\n",
       " array([0.27971967]),\n",
       " array([0.11600845]),\n",
       " array([0.08528704]),\n",
       " array([0.28056048]),\n",
       " array([0.09179239]),\n",
       " array([0.7337217]),\n",
       " array([0.68868349]),\n",
       " array([0.46892677]),\n",
       " array([0.02860078]),\n",
       " array([0.35764548]),\n",
       " array([0.04767772]),\n",
       " array([0.16844947]),\n",
       " array([0.21213471]),\n",
       " array([0.4486988]),\n",
       " array([0.28825516]),\n",
       " array([0.17578363]),\n",
       " array([0.28137065]),\n",
       " array([0.23153792]),\n",
       " array([0.40348414]),\n",
       " array([0.13967517]),\n",
       " array([0.13195534]),\n",
       " array([0.06989515]),\n",
       " array([0.39024556]),\n",
       " array([0.34118347]),\n",
       " array([0.25438538]),\n",
       " array([0.38409009]),\n",
       " array([0.43492176]),\n",
       " array([0.3496774]),\n",
       " array([0.54188352]),\n",
       " array([0.28406647]),\n",
       " array([0.16562016]),\n",
       " array([-0.02088241]),\n",
       " array([0.47346026]),\n",
       " array([0.60803049]),\n",
       " array([0.56050893]),\n",
       " array([0.65618588]),\n",
       " array([0.29252542]),\n",
       " array([0.29658564]),\n",
       " array([0.00045461]),\n",
       " array([0.21721363]),\n",
       " array([0.45330013])]"
      ]
     },
     "execution_count": 19,
     "metadata": {},
     "output_type": "execute_result"
    }
   ],
   "source": [
    "y_pred"
   ]
  },
  {
   "cell_type": "markdown",
   "id": "e23624c8",
   "metadata": {},
   "source": [
    "LINEAR REGRESSION"
   ]
  },
  {
   "cell_type": "code",
   "execution_count": 20,
   "id": "604d113e",
   "metadata": {},
   "outputs": [
    {
     "data": {
      "text/plain": [
       "Pregnancies                 0.221898\n",
       "Glucose                     0.466581\n",
       "BloodPressure               0.065068\n",
       "SkinThickness               0.074752\n",
       "Insulin                     0.130548\n",
       "BMI                         0.292695\n",
       "DiabetesPedigreeFunction    0.173844\n",
       "Age                         0.238356\n",
       "Outcome                     1.000000\n",
       "Name: Outcome, dtype: float64"
      ]
     },
     "execution_count": 20,
     "metadata": {},
     "output_type": "execute_result"
    }
   ],
   "source": [
    "df.corr()['Outcome']"
   ]
  },
  {
   "cell_type": "markdown",
   "id": "c694bc2a",
   "metadata": {},
   "source": [
    "OUTCOME IS CORREALTED THE MOST TO THE GLUCOSE COLUMN"
   ]
  },
  {
   "cell_type": "code",
   "execution_count": 21,
   "id": "d56153f8",
   "metadata": {},
   "outputs": [],
   "source": [
    "df1 = df[['Glucose','Outcome']]"
   ]
  },
  {
   "cell_type": "code",
   "execution_count": 22,
   "id": "c8afd96d",
   "metadata": {},
   "outputs": [],
   "source": [
    "X,Y = train_test_split(df1, test_size = 0.3, random_state = 0)"
   ]
  },
  {
   "cell_type": "code",
   "execution_count": 23,
   "id": "b4480353",
   "metadata": {},
   "outputs": [],
   "source": [
    "X_train = X[['Glucose']]\n",
    "Y_train = X[['Outcome']]\n",
    "X_test = Y[['Glucose']]\n",
    "Y_test = Y[['Outcome']]"
   ]
  },
  {
   "cell_type": "code",
   "execution_count": 24,
   "id": "3ea1030b",
   "metadata": {},
   "outputs": [],
   "source": [
    "regressor = LinearRegression()"
   ]
  },
  {
   "cell_type": "code",
   "execution_count": 25,
   "id": "ecdcabc3",
   "metadata": {},
   "outputs": [
    {
     "data": {
      "text/html": [
       "<style>#sk-container-id-2 {color: black;background-color: white;}#sk-container-id-2 pre{padding: 0;}#sk-container-id-2 div.sk-toggleable {background-color: white;}#sk-container-id-2 label.sk-toggleable__label {cursor: pointer;display: block;width: 100%;margin-bottom: 0;padding: 0.3em;box-sizing: border-box;text-align: center;}#sk-container-id-2 label.sk-toggleable__label-arrow:before {content: \"▸\";float: left;margin-right: 0.25em;color: #696969;}#sk-container-id-2 label.sk-toggleable__label-arrow:hover:before {color: black;}#sk-container-id-2 div.sk-estimator:hover label.sk-toggleable__label-arrow:before {color: black;}#sk-container-id-2 div.sk-toggleable__content {max-height: 0;max-width: 0;overflow: hidden;text-align: left;background-color: #f0f8ff;}#sk-container-id-2 div.sk-toggleable__content pre {margin: 0.2em;color: black;border-radius: 0.25em;background-color: #f0f8ff;}#sk-container-id-2 input.sk-toggleable__control:checked~div.sk-toggleable__content {max-height: 200px;max-width: 100%;overflow: auto;}#sk-container-id-2 input.sk-toggleable__control:checked~label.sk-toggleable__label-arrow:before {content: \"▾\";}#sk-container-id-2 div.sk-estimator input.sk-toggleable__control:checked~label.sk-toggleable__label {background-color: #d4ebff;}#sk-container-id-2 div.sk-label input.sk-toggleable__control:checked~label.sk-toggleable__label {background-color: #d4ebff;}#sk-container-id-2 input.sk-hidden--visually {border: 0;clip: rect(1px 1px 1px 1px);clip: rect(1px, 1px, 1px, 1px);height: 1px;margin: -1px;overflow: hidden;padding: 0;position: absolute;width: 1px;}#sk-container-id-2 div.sk-estimator {font-family: monospace;background-color: #f0f8ff;border: 1px dotted black;border-radius: 0.25em;box-sizing: border-box;margin-bottom: 0.5em;}#sk-container-id-2 div.sk-estimator:hover {background-color: #d4ebff;}#sk-container-id-2 div.sk-parallel-item::after {content: \"\";width: 100%;border-bottom: 1px solid gray;flex-grow: 1;}#sk-container-id-2 div.sk-label:hover label.sk-toggleable__label {background-color: #d4ebff;}#sk-container-id-2 div.sk-serial::before {content: \"\";position: absolute;border-left: 1px solid gray;box-sizing: border-box;top: 0;bottom: 0;left: 50%;z-index: 0;}#sk-container-id-2 div.sk-serial {display: flex;flex-direction: column;align-items: center;background-color: white;padding-right: 0.2em;padding-left: 0.2em;position: relative;}#sk-container-id-2 div.sk-item {position: relative;z-index: 1;}#sk-container-id-2 div.sk-parallel {display: flex;align-items: stretch;justify-content: center;background-color: white;position: relative;}#sk-container-id-2 div.sk-item::before, #sk-container-id-2 div.sk-parallel-item::before {content: \"\";position: absolute;border-left: 1px solid gray;box-sizing: border-box;top: 0;bottom: 0;left: 50%;z-index: -1;}#sk-container-id-2 div.sk-parallel-item {display: flex;flex-direction: column;z-index: 1;position: relative;background-color: white;}#sk-container-id-2 div.sk-parallel-item:first-child::after {align-self: flex-end;width: 50%;}#sk-container-id-2 div.sk-parallel-item:last-child::after {align-self: flex-start;width: 50%;}#sk-container-id-2 div.sk-parallel-item:only-child::after {width: 0;}#sk-container-id-2 div.sk-dashed-wrapped {border: 1px dashed gray;margin: 0 0.4em 0.5em 0.4em;box-sizing: border-box;padding-bottom: 0.4em;background-color: white;}#sk-container-id-2 div.sk-label label {font-family: monospace;font-weight: bold;display: inline-block;line-height: 1.2em;}#sk-container-id-2 div.sk-label-container {text-align: center;}#sk-container-id-2 div.sk-container {/* jupyter's `normalize.less` sets `[hidden] { display: none; }` but bootstrap.min.css set `[hidden] { display: none !important; }` so we also need the `!important` here to be able to override the default hidden behavior on the sphinx rendered scikit-learn.org. See: https://github.com/scikit-learn/scikit-learn/issues/21755 */display: inline-block !important;position: relative;}#sk-container-id-2 div.sk-text-repr-fallback {display: none;}</style><div id=\"sk-container-id-2\" class=\"sk-top-container\"><div class=\"sk-text-repr-fallback\"><pre>LinearRegression()</pre><b>In a Jupyter environment, please rerun this cell to show the HTML representation or trust the notebook. <br />On GitHub, the HTML representation is unable to render, please try loading this page with nbviewer.org.</b></div><div class=\"sk-container\" hidden><div class=\"sk-item\"><div class=\"sk-estimator sk-toggleable\"><input class=\"sk-toggleable__control sk-hidden--visually\" id=\"sk-estimator-id-2\" type=\"checkbox\" checked><label for=\"sk-estimator-id-2\" class=\"sk-toggleable__label sk-toggleable__label-arrow\">LinearRegression</label><div class=\"sk-toggleable__content\"><pre>LinearRegression()</pre></div></div></div></div></div>"
      ],
      "text/plain": [
       "LinearRegression()"
      ]
     },
     "execution_count": 25,
     "metadata": {},
     "output_type": "execute_result"
    }
   ],
   "source": [
    "regressor.fit(X_train, Y_train)"
   ]
  },
  {
   "cell_type": "code",
   "execution_count": 26,
   "id": "b8cac890",
   "metadata": {},
   "outputs": [],
   "source": [
    "Y_pred = regressor.predict(X_test)"
   ]
  },
  {
   "cell_type": "code",
   "execution_count": 29,
   "id": "8e06f904",
   "metadata": {},
   "outputs": [],
   "source": [
    "Y['predicted_outcome'] = Y_pred"
   ]
  },
  {
   "cell_type": "markdown",
   "id": "504443a4",
   "metadata": {},
   "source": [
    "ERROR CALCULATION"
   ]
  },
  {
   "cell_type": "code",
   "execution_count": 40,
   "id": "604968f1",
   "metadata": {},
   "outputs": [
    {
     "name": "stdout",
     "output_type": "stream",
     "text": [
      "mean squared error:  0.1734181207722777\n",
      "root mean square error:  0.41643501386444165\n",
      "mean absolute error:  0.35886561583284926\n"
     ]
    }
   ],
   "source": [
    "MSE = mean_squared_error(Y_test,Y_pred)\n",
    "print(\"mean squared error: \",MSE)\n",
    "RMSE  = math.sqrt(MSE)\n",
    "print(\"root mean square error: \",RMSE)\n",
    "MAE = mean_absolute_error(Y_test,Y_pred)\n",
    "print(\"mean absolute error: \",MAE)"
   ]
  },
  {
   "cell_type": "code",
   "execution_count": 42,
   "id": "4184ce4d",
   "metadata": {},
   "outputs": [
    {
     "data": {
      "image/png": "[encoded data removed]",
      "text/plain": [
       "<Figure size 640x480 with 1 Axes>"
      ]
     },
     "metadata": {},
     "output_type": "display_data"
    }
   ],
   "source": [
    "sns.scatterplot(x = 'Glucose',y = 'Outcome', data = Y)\n",
    "sns.scatterplot(x = 'Glucose',y = 'predicted_outcome', data = Y)\n",
    "plt.plot(Y['Glucose'], Y['predicted_outcome'], color = 'black')\n",
    "plt.show()"
   ]
  }
 ],
 "metadata": {
  "kernelspec": {
   "display_name": "Python 3 (ipykernel)",
   "language": "python",
   "name": "python3"
  },
  "language_info": {
   "codemirror_mode": {
    "name": "ipython",
    "version": 3
   },
   "file_extension": ".py",
   "mimetype": "text/x-python",
   "name": "python",
   "nbconvert_exporter": "python",
   "pygments_lexer": "ipython3",
   "version": "3.11.3"
  }
 },
 "nbformat": 4,
 "nbformat_minor": 5
}
